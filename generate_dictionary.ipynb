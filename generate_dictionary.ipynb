{
 "cells": [
  {
   "cell_type": "code",
   "execution_count": 1,
   "metadata": {},
   "outputs": [],
   "source": [
    "import tensorflow as tf\n",
    "import pandas as pd\n",
    "import numpy as np"
   ]
  },
  {
   "cell_type": "code",
   "execution_count": 2,
   "metadata": {},
   "outputs": [],
   "source": [
    "import matplotlib.pyplot as plt\n",
    "%matplotlib inline"
   ]
  },
  {
   "cell_type": "code",
   "execution_count": 3,
   "metadata": {},
   "outputs": [
    {
     "name": "stdout",
     "output_type": "stream",
     "text": [
      "Bad lines: 0\n"
     ]
    }
   ],
   "source": [
    "import re\n",
    "\n",
    "file_name = \"data/GloVe/glove.6B.50d.txt\"\n",
    "\n",
    "embedding = {}\n",
    "idx_to_word = {}\n",
    "word_to_idx = {}\n",
    "bad_lines = 0\n",
    "\n",
    "with open(file_name, 'r', encoding='UTF-8') as f:\n",
    "    for idx, line in enumerate(f):\n",
    "        try:\n",
    "            line = line.strip()\n",
    "            match_obj = re.match(r'([^\\s]+)', line)\n",
    "            word = match_obj.group(1)\n",
    "            word_len = len(word)\n",
    "            word_vec = line[word_len:].replace('\\n', '')\n",
    "\n",
    "            embed = word_vec.strip()\n",
    "            embed = embed.split()\n",
    "            embed = np.array(embed, dtype=np.float32)\n",
    "            \n",
    "            embedding[idx] = [embed]\n",
    "            idx_to_word[idx] = word.strip()\n",
    "            word_to_idx[word.strip()] = idx\n",
    "        except:\n",
    "            bad_lines += 1\n",
    "\n",
    "print(f'Bad lines: {bad_lines}')"
   ]
  },
  {
   "cell_type": "code",
   "execution_count": 4,
   "metadata": {},
   "outputs": [
    {
     "data": {
      "text/plain": [
       "array([[0.71814054]], dtype=float32)"
      ]
     },
     "execution_count": 4,
     "metadata": {},
     "output_type": "execute_result"
    }
   ],
   "source": [
    "from sklearn.metrics.pairwise import cosine_similarity\n",
    "\n",
    "w1 = 'banana'\n",
    "w2 = 'fruit'\n",
    "\n",
    "w1_embed = embedding[word_to_idx[w1]]\n",
    "w2_embed = embedding[word_to_idx[w2]]\n",
    "cosine_similarity(w1_embed, w2_embed)\n"
   ]
  },
  {
   "cell_type": "code",
   "execution_count": 5,
   "metadata": {},
   "outputs": [],
   "source": [
    "df = pd.read_csv('data/opted/OPTED-Dictionary.csv')"
   ]
  },
  {
   "cell_type": "code",
   "execution_count": 6,
   "metadata": {},
   "outputs": [
    {
     "data": {
      "text/html": [
       "<div>\n",
       "<style scoped>\n",
       "    .dataframe tbody tr th:only-of-type {\n",
       "        vertical-align: middle;\n",
       "    }\n",
       "\n",
       "    .dataframe tbody tr th {\n",
       "        vertical-align: top;\n",
       "    }\n",
       "\n",
       "    .dataframe thead th {\n",
       "        text-align: right;\n",
       "    }\n",
       "</style>\n",
       "<table border=\"1\" class=\"dataframe\">\n",
       "  <thead>\n",
       "    <tr style=\"text-align: right;\">\n",
       "      <th></th>\n",
       "      <th>Word</th>\n",
       "      <th>Count</th>\n",
       "      <th>POS</th>\n",
       "      <th>Definition</th>\n",
       "    </tr>\n",
       "  </thead>\n",
       "  <tbody>\n",
       "    <tr>\n",
       "      <th>0</th>\n",
       "      <td>A</td>\n",
       "      <td>1</td>\n",
       "      <td>\"\"</td>\n",
       "      <td>\"The first letter of the English and of many o...</td>\n",
       "    </tr>\n",
       "    <tr>\n",
       "      <th>1</th>\n",
       "      <td>A</td>\n",
       "      <td>1</td>\n",
       "      <td>\"\"</td>\n",
       "      <td>\"The name of the sixth tone in the model major...</td>\n",
       "    </tr>\n",
       "    <tr>\n",
       "      <th>2</th>\n",
       "      <td>A</td>\n",
       "      <td>1</td>\n",
       "      <td>\"\"</td>\n",
       "      <td>\"An adjective  commonly called the indefinite ...</td>\n",
       "    </tr>\n",
       "    <tr>\n",
       "      <th>3</th>\n",
       "      <td>A</td>\n",
       "      <td>1</td>\n",
       "      <td>\"\"</td>\n",
       "      <td>\"In each; to or for each; as  \"\"\"\"twenty leagu...</td>\n",
       "    </tr>\n",
       "    <tr>\n",
       "      <th>4</th>\n",
       "      <td>A</td>\n",
       "      <td>1</td>\n",
       "      <td>\"prep.\"</td>\n",
       "      <td>\"In; on; at; by.\"</td>\n",
       "    </tr>\n",
       "  </tbody>\n",
       "</table>\n",
       "</div>"
      ],
      "text/plain": [
       "  Word Count      POS                                         Definition\n",
       "0    A     1       \"\"  \"The first letter of the English and of many o...\n",
       "1    A     1       \"\"  \"The name of the sixth tone in the model major...\n",
       "2    A     1       \"\"  \"An adjective  commonly called the indefinite ...\n",
       "3    A     1       \"\"  \"In each; to or for each; as  \"\"\"\"twenty leagu...\n",
       "4    A     1  \"prep.\"                                  \"In; on; at; by.\""
      ]
     },
     "execution_count": 6,
     "metadata": {},
     "output_type": "execute_result"
    }
   ],
   "source": [
    "df.head()"
   ]
  },
  {
   "cell_type": "code",
   "execution_count": 7,
   "metadata": {},
   "outputs": [],
   "source": [
    "df[\"Word\"] = df[\"Word\"].str.lower()"
   ]
  },
  {
   "cell_type": "code",
   "execution_count": 8,
   "metadata": {},
   "outputs": [
    {
     "data": {
      "text/plain": [
       "'abate'"
      ]
     },
     "execution_count": 8,
     "metadata": {},
     "output_type": "execute_result"
    }
   ],
   "source": [
    "df[\"Word\"][100]"
   ]
  },
  {
   "cell_type": "code",
   "execution_count": 9,
   "metadata": {},
   "outputs": [
    {
     "data": {
      "text/plain": [
       "'!\"#$%&\\'()*+,-./:;<=>?@[\\\\]^_`{|}~'"
      ]
     },
     "execution_count": 9,
     "metadata": {},
     "output_type": "execute_result"
    }
   ],
   "source": [
    "import string\n",
    "string.punctuation"
   ]
  },
  {
   "cell_type": "code",
   "execution_count": 10,
   "metadata": {},
   "outputs": [],
   "source": [
    "chars_to_remove = re.compile(r'[{}]'.format(re.escape(string.punctuation)))\n",
    "df[\"Definition\"] = df[\"Definition\"].map(lambda x: chars_to_remove.sub('', x).lower())"
   ]
  },
  {
   "cell_type": "code",
   "execution_count": 11,
   "metadata": {},
   "outputs": [
    {
     "data": {
      "text/html": [
       "<div>\n",
       "<style scoped>\n",
       "    .dataframe tbody tr th:only-of-type {\n",
       "        vertical-align: middle;\n",
       "    }\n",
       "\n",
       "    .dataframe tbody tr th {\n",
       "        vertical-align: top;\n",
       "    }\n",
       "\n",
       "    .dataframe thead th {\n",
       "        text-align: right;\n",
       "    }\n",
       "</style>\n",
       "<table border=\"1\" class=\"dataframe\">\n",
       "  <thead>\n",
       "    <tr style=\"text-align: right;\">\n",
       "      <th></th>\n",
       "      <th>Word</th>\n",
       "      <th>Count</th>\n",
       "      <th>POS</th>\n",
       "      <th>Definition</th>\n",
       "    </tr>\n",
       "  </thead>\n",
       "  <tbody>\n",
       "    <tr>\n",
       "      <th>0</th>\n",
       "      <td>a</td>\n",
       "      <td>1</td>\n",
       "      <td>\"\"</td>\n",
       "      <td>the first letter of the english and of many ot...</td>\n",
       "    </tr>\n",
       "    <tr>\n",
       "      <th>1</th>\n",
       "      <td>a</td>\n",
       "      <td>1</td>\n",
       "      <td>\"\"</td>\n",
       "      <td>the name of the sixth tone in the model major ...</td>\n",
       "    </tr>\n",
       "    <tr>\n",
       "      <th>2</th>\n",
       "      <td>a</td>\n",
       "      <td>1</td>\n",
       "      <td>\"\"</td>\n",
       "      <td>an adjective  commonly called the indefinite a...</td>\n",
       "    </tr>\n",
       "    <tr>\n",
       "      <th>3</th>\n",
       "      <td>a</td>\n",
       "      <td>1</td>\n",
       "      <td>\"\"</td>\n",
       "      <td>in each to or for each as  twenty leagues a da...</td>\n",
       "    </tr>\n",
       "    <tr>\n",
       "      <th>4</th>\n",
       "      <td>a</td>\n",
       "      <td>1</td>\n",
       "      <td>\"prep.\"</td>\n",
       "      <td>in on at by</td>\n",
       "    </tr>\n",
       "  </tbody>\n",
       "</table>\n",
       "</div>"
      ],
      "text/plain": [
       "  Word Count      POS                                         Definition\n",
       "0    a     1       \"\"  the first letter of the english and of many ot...\n",
       "1    a     1       \"\"  the name of the sixth tone in the model major ...\n",
       "2    a     1       \"\"  an adjective  commonly called the indefinite a...\n",
       "3    a     1       \"\"  in each to or for each as  twenty leagues a da...\n",
       "4    a     1  \"prep.\"                                        in on at by"
      ]
     },
     "execution_count": 11,
     "metadata": {},
     "output_type": "execute_result"
    }
   ],
   "source": [
    "df.head()"
   ]
  },
  {
   "cell_type": "code",
   "execution_count": 12,
   "metadata": {},
   "outputs": [
    {
     "name": "stdout",
     "output_type": "stream",
     "text": [
      "in each to or for each as  twenty leagues a day a hundred pounds a year a dollar a yard etc\n"
     ]
    }
   ],
   "source": [
    "print(df[\"Definition\"][3])"
   ]
  },
  {
   "cell_type": "code",
   "execution_count": 13,
   "metadata": {},
   "outputs": [
    {
     "data": {
      "text/plain": [
       "(176009, 4)"
      ]
     },
     "execution_count": 13,
     "metadata": {},
     "output_type": "execute_result"
    }
   ],
   "source": [
    "df.shape"
   ]
  },
  {
   "cell_type": "code",
   "execution_count": 14,
   "metadata": {},
   "outputs": [],
   "source": [
    "df = df[df[\"Word\"].isin(word_to_idx.keys())]"
   ]
  },
  {
   "cell_type": "code",
   "execution_count": 30,
   "metadata": {},
   "outputs": [
    {
     "data": {
      "text/plain": [
       "(102236, 4)"
      ]
     },
     "execution_count": 30,
     "metadata": {},
     "output_type": "execute_result"
    }
   ],
   "source": [
    "df.shape"
   ]
  },
  {
   "cell_type": "code",
   "execution_count": 31,
   "metadata": {},
   "outputs": [],
   "source": [
    "df = df[df[\"Word\"] != \"\"]\n",
    "df = df[df[\"Definition\"] != \"\"]"
   ]
  },
  {
   "cell_type": "code",
   "execution_count": 32,
   "metadata": {},
   "outputs": [
    {
     "data": {
      "text/plain": [
       "(102234, 4)"
      ]
     },
     "execution_count": 32,
     "metadata": {},
     "output_type": "execute_result"
    }
   ],
   "source": [
    "df.shape"
   ]
  },
  {
   "cell_type": "code",
   "execution_count": 16,
   "metadata": {},
   "outputs": [],
   "source": [
    "from transformers import TFBertModel, BertTokenizer\n",
    "\n",
    "tokenizer = BertTokenizer.from_pretrained('bert-base-uncased')"
   ]
  },
  {
   "cell_type": "code",
   "execution_count": 35,
   "metadata": {},
   "outputs": [
    {
     "name": "stdout",
     "output_type": "stream",
     "text": [
      "Number of sequences: 102234\n"
     ]
    }
   ],
   "source": [
    "seq_length = 512\n",
    "\n",
    "def generate_sequences(dataset):\n",
    "    num_sequences = dataset.shape[0]\n",
    "\n",
    "    x_token = np.zeros((num_sequences, seq_length))\n",
    "    x_mask = np.zeros((num_sequences, seq_length))\n",
    "    y_token = np.zeros((num_sequences, 50), dtype=np.float64)\n",
    "\n",
    "    for i in range(0, num_sequences):\n",
    "        try:\n",
    "            word = dataset[\"Word\"].iloc[i]\n",
    "            definition = dataset[\"Definition\"].iloc[i]\n",
    "\n",
    "            tokens = tokenizer.tokenize(definition)\n",
    "            input = tokenizer.encode_plus(tokens, max_length=seq_length, truncation=True, padding='max_length', add_special_tokens=True, return_tensors='tf')\n",
    "            \n",
    "            x_token[i, :] = input['input_ids']\n",
    "            x_mask[i, :] = input['attention_mask']\n",
    "            y_token[i, :] = embedding[word_to_idx[word]][0]\n",
    "        \n",
    "        except:\n",
    "            print(f'Error on {i}')\n",
    "\n",
    "\n",
    "    print(f'Number of sequences: {num_sequences}')\n",
    "\n",
    "    return x_token, x_mask, y_token, num_sequences\n",
    "\n",
    "x_token, x_mask, y_token, num_sequences = generate_sequences(df[[\"Word\", \"Definition\"]])"
   ]
  },
  {
   "cell_type": "code",
   "execution_count": 45,
   "metadata": {},
   "outputs": [
    {
     "data": {
      "text/plain": [
       "<TakeDataset shapes: ((512,), (512,), (50,)), types: (tf.float64, tf.float64, tf.float64)>"
      ]
     },
     "execution_count": 45,
     "metadata": {},
     "output_type": "execute_result"
    }
   ],
   "source": [
    "dataset = tf.data.Dataset.from_tensor_slices((x_token, x_mask, y_token))\n",
    "dataset.take(1)"
   ]
  },
  {
   "cell_type": "code",
   "execution_count": 46,
   "metadata": {},
   "outputs": [
    {
     "data": {
      "text/plain": [
       "<TakeDataset shapes: ({input_ids: (512,), attention_mask: (512,)}, (50,)), types: ({input_ids: tf.float64, attention_mask: tf.float64}, tf.float64)>"
      ]
     },
     "execution_count": 46,
     "metadata": {},
     "output_type": "execute_result"
    }
   ],
   "source": [
    "def combine_input_mask(input_id, mask, y_token):\n",
    "    return {'input_ids': input_id, 'attention_mask': mask}, y_token\n",
    "\n",
    "dataset = dataset.map(combine_input_mask)\n",
    "dataset.take(1)"
   ]
  },
  {
   "cell_type": "code",
   "execution_count": 47,
   "metadata": {},
   "outputs": [
    {
     "data": {
      "text/plain": [
       "<TakeDataset shapes: ({input_ids: (16, 512), attention_mask: (16, 512)}, (16, 50)), types: ({input_ids: tf.float64, attention_mask: tf.float64}, tf.float64)>"
      ]
     },
     "execution_count": 47,
     "metadata": {},
     "output_type": "execute_result"
    }
   ],
   "source": [
    "batch_size = 16\n",
    "dataset = dataset.shuffle(10000).batch(batch_size, drop_remainder=True)\n",
    "dataset.take(1)"
   ]
  },
  {
   "cell_type": "code",
   "execution_count": 48,
   "metadata": {},
   "outputs": [
    {
     "name": "stdout",
     "output_type": "stream",
     "text": [
      "tensor: <TakeDataset shapes: ({input_ids: (16, 512), attention_mask: (16, 512)}, (16, 50)), types: ({input_ids: tf.float64, attention_mask: tf.float64}, tf.float64)>\n",
      "size: 5111\n",
      "tensor: <TakeDataset shapes: ({input_ids: (16, 512), attention_mask: (16, 512)}, (16, 50)), types: ({input_ids: tf.float64, attention_mask: tf.float64}, tf.float64)>\n",
      "size: 639\n",
      "tensor: <TakeDataset shapes: ({input_ids: (16, 512), attention_mask: (16, 512)}, (16, 50)), types: ({input_ids: tf.float64, attention_mask: tf.float64}, tf.float64)>\n",
      "size: 639\n"
     ]
    }
   ],
   "source": [
    "split = 0.8\n",
    "sample_size = int((num_sequences // batch_size) * split)\n",
    "ds_train = dataset.take(sample_size)\n",
    "dataset_validation = dataset.skip(sample_size)\n",
    "\n",
    "test_split = 0.5\n",
    "testset_size = len(list(dataset_validation))\n",
    "val_sample_size = int(testset_size * test_split)\n",
    "ds_val = dataset_validation.take(val_sample_size)\n",
    "ds_test = dataset_validation.skip(val_sample_size)\n",
    "print(f'tensor: {ds_train.take(1)}\\nsize: {len(list(ds_train))}')\n",
    "print(f'tensor: {ds_val.take(1)}\\nsize: {len(list(ds_val))}')\n",
    "print(f'tensor: {ds_test.take(1)}\\nsize: {len(list(ds_test))}')"
   ]
  },
  {
   "cell_type": "code",
   "execution_count": 40,
   "metadata": {},
   "outputs": [
    {
     "data": {
      "application/vnd.jupyter.widget-view+json": {
       "model_id": "4e182bb384ba42af9a93dc2091a37454",
       "version_major": 2,
       "version_minor": 0
      },
      "text/plain": [
       "Downloading:   0%|          | 0.00/511M [00:00<?, ?B/s]"
      ]
     },
     "metadata": {},
     "output_type": "display_data"
    },
    {
     "name": "stderr",
     "output_type": "stream",
     "text": [
      "2021-11-19 01:13:11.109747: I tensorflow/stream_executor/cuda/cuda_blas.cc:1774] TensorFloat-32 will be used for the matrix multiplication. This will only be logged once.\n",
      "Some layers from the model checkpoint at bert-base-uncased were not used when initializing TFBertModel: ['nsp___cls', 'mlm___cls']\n",
      "- This IS expected if you are initializing TFBertModel from the checkpoint of a model trained on another task or with another architecture (e.g. initializing a BertForSequenceClassification model from a BertForPreTraining model).\n",
      "- This IS NOT expected if you are initializing TFBertModel from the checkpoint of a model that you expect to be exactly identical (initializing a BertForSequenceClassification model from a BertForSequenceClassification model).\n",
      "All the layers of TFBertModel were initialized from the model checkpoint at bert-base-uncased.\n",
      "If your task is similar to the task the model of the checkpoint was trained on, you can already use TFBertModel for predictions without further training.\n"
     ]
    }
   ],
   "source": [
    "bert = TFBertModel.from_pretrained('bert-base-uncased')"
   ]
  },
  {
   "cell_type": "code",
   "execution_count": 49,
   "metadata": {},
   "outputs": [
    {
     "name": "stdout",
     "output_type": "stream",
     "text": [
      "Model: \"model_2\"\n",
      "__________________________________________________________________________________________________\n",
      " Layer (type)                   Output Shape         Param #     Connected to                     \n",
      "==================================================================================================\n",
      " input_ids (InputLayer)         [(None, 512)]        0           []                               \n",
      "                                                                                                  \n",
      " attention_mask (InputLayer)    [(None, 512)]        0           []                               \n",
      "                                                                                                  \n",
      " bert (TFBertMainLayer)         multiple             109482240   ['input_ids[0][0]',              \n",
      "                                                                  'attention_mask[0][0]']         \n",
      "                                                                                                  \n",
      " dense_4 (Dense)                (None, 1024)         787456      ['bert[2][1]']                   \n",
      "                                                                                                  \n",
      " dropout_39 (Dropout)           (None, 1024)         0           ['dense_4[0][0]']                \n",
      "                                                                                                  \n",
      " dense_5 (Dense)                (None, 50)           51250       ['dropout_39[0][0]']             \n",
      "                                                                                                  \n",
      "==================================================================================================\n",
      "Total params: 110,320,946\n",
      "Trainable params: 838,706\n",
      "Non-trainable params: 109,482,240\n",
      "__________________________________________________________________________________________________\n"
     ]
    }
   ],
   "source": [
    "from tensorflow.keras.layers import Dense, Dropout, Input\n",
    "from tensorflow.keras.models import Model\n",
    "from tensorflow.keras.optimizers import SGD\n",
    "\n",
    "input_layer = Input(shape=(seq_length,), name='input_ids', dtype=tf.int32)\n",
    "mask_layer = Input(shape=(seq_length,),\n",
    "                   name='attention_mask', dtype=tf.int32)\n",
    "\n",
    "embedding_layer = bert.bert(input_layer, attention_mask=mask_layer)[1]\n",
    "\n",
    "out = Dense(1024, activation='relu')(embedding_layer)\n",
    "out = Dropout(0.2)(out)\n",
    "out = Dense(50)(out)\n",
    "\n",
    "model = Model(inputs=[input_layer, mask_layer], outputs=out)\n",
    "\n",
    "model.layers[2].trainable = False\n",
    "\n",
    "optimizer = SGD(learning_rate=0.00009, decay=1e-6)\n",
    "model.compile(optimizer=optimizer,\n",
    "              loss=tf.losses.mean_squared_error, metrics=['accuracy'])\n",
    "\n",
    "model.summary()"
   ]
  },
  {
   "cell_type": "code",
   "execution_count": 50,
   "metadata": {},
   "outputs": [
    {
     "name": "stdout",
     "output_type": "stream",
     "text": [
      "Epoch 1/100\n",
      "5111/5111 [==============================] - ETA: 0s - loss: 0.5097 - accuracy: 0.0974\n",
      "Epoch 00001: val_loss improved from inf to 0.41106, saving model to reverse_model.h5\n",
      "5111/5111 [==============================] - 2303s 450ms/step - loss: 0.5097 - accuracy: 0.0974 - val_loss: 0.4111 - val_accuracy: 0.2909\n",
      "Epoch 2/100\n",
      "5111/5111 [==============================] - ETA: 0s - loss: 0.4633 - accuracy: 0.1451\n",
      "Epoch 00002: val_loss improved from 0.41106 to 0.40536, saving model to reverse_model.h5\n",
      "5111/5111 [==============================] - 2269s 444ms/step - loss: 0.4633 - accuracy: 0.1451 - val_loss: 0.4054 - val_accuracy: 0.2973\n",
      "Epoch 3/100\n",
      "5111/5111 [==============================] - ETA: 0s - loss: 0.4519 - accuracy: 0.1625\n",
      "Epoch 00003: val_loss improved from 0.40536 to 0.40161, saving model to reverse_model.h5\n",
      "5111/5111 [==============================] - 2170s 425ms/step - loss: 0.4519 - accuracy: 0.1625 - val_loss: 0.4016 - val_accuracy: 0.2997\n",
      "Epoch 4/100\n",
      "5111/5111 [==============================] - ETA: 0s - loss: 0.4437 - accuracy: 0.1744\n",
      "Epoch 00004: val_loss improved from 0.40161 to 0.39904, saving model to reverse_model.h5\n",
      "5111/5111 [==============================] - 2170s 425ms/step - loss: 0.4437 - accuracy: 0.1744 - val_loss: 0.3990 - val_accuracy: 0.3018\n",
      "Epoch 5/100\n",
      "5111/5111 [==============================] - ETA: 0s - loss: 0.4371 - accuracy: 0.1890\n",
      "Epoch 00005: val_loss did not improve from 0.39904\n",
      "5111/5111 [==============================] - 2169s 424ms/step - loss: 0.4371 - accuracy: 0.1890 - val_loss: 0.3997 - val_accuracy: 0.3102\n",
      "Epoch 6/100\n",
      "5111/5111 [==============================] - ETA: 0s - loss: 0.4317 - accuracy: 0.2004\n",
      "Epoch 00006: val_loss improved from 0.39904 to 0.39855, saving model to reverse_model.h5\n",
      "5111/5111 [==============================] - 2236s 437ms/step - loss: 0.4317 - accuracy: 0.2004 - val_loss: 0.3986 - val_accuracy: 0.3007\n",
      "Epoch 7/100\n",
      "5111/5111 [==============================] - ETA: 0s - loss: 0.4275 - accuracy: 0.2095\n",
      "Epoch 00007: val_loss improved from 0.39855 to 0.39695, saving model to reverse_model.h5\n",
      "5111/5111 [==============================] - 2211s 433ms/step - loss: 0.4275 - accuracy: 0.2095 - val_loss: 0.3969 - val_accuracy: 0.3032\n",
      "Epoch 8/100\n",
      "5111/5111 [==============================] - ETA: 0s - loss: 0.4241 - accuracy: 0.2168\n",
      "Epoch 00008: val_loss did not improve from 0.39695\n",
      "5111/5111 [==============================] - 2170s 425ms/step - loss: 0.4241 - accuracy: 0.2168 - val_loss: 0.4002 - val_accuracy: 0.3048\n",
      "Epoch 9/100\n",
      "5111/5111 [==============================] - ETA: 0s - loss: 0.4207 - accuracy: 0.2262\n",
      "Epoch 00009: val_loss improved from 0.39695 to 0.39584, saving model to reverse_model.h5\n",
      "5111/5111 [==============================] - 2171s 425ms/step - loss: 0.4207 - accuracy: 0.2262 - val_loss: 0.3958 - val_accuracy: 0.3050\n",
      "Epoch 10/100\n",
      "5111/5111 [==============================] - ETA: 0s - loss: 0.4180 - accuracy: 0.2319\n",
      "Epoch 00010: val_loss did not improve from 0.39584\n",
      "5111/5111 [==============================] - 2170s 425ms/step - loss: 0.4180 - accuracy: 0.2319 - val_loss: 0.3959 - val_accuracy: 0.3027\n",
      "Epoch 11/100\n",
      "5111/5111 [==============================] - ETA: 0s - loss: 0.4159 - accuracy: 0.2358\n",
      "Epoch 00011: val_loss did not improve from 0.39584\n",
      "5111/5111 [==============================] - 2170s 425ms/step - loss: 0.4159 - accuracy: 0.2358 - val_loss: 0.3965 - val_accuracy: 0.2994\n",
      "Epoch 12/100\n",
      "5111/5111 [==============================] - ETA: 0s - loss: 0.4140 - accuracy: 0.2425\n",
      "Epoch 00012: val_loss did not improve from 0.39584\n",
      "5111/5111 [==============================] - 2170s 425ms/step - loss: 0.4140 - accuracy: 0.2425 - val_loss: 0.3964 - val_accuracy: 0.3050\n",
      "Epoch 00012: early stopping\n"
     ]
    }
   ],
   "source": [
    "from tensorflow.keras.callbacks import EarlyStopping, ModelCheckpoint\n",
    "\n",
    "es = EarlyStopping(monitor='val_loss', mode='min', verbose=1, patience=3)\n",
    "mc = ModelCheckpoint('reverse_model.h5', monitor='val_loss',\n",
    "                     mode='min', save_best_only=True, verbose=1)\n",
    "\n",
    "history = model.fit(ds_train, validation_data=ds_val,\n",
    "                    batch_size=16, epochs=100, shuffle=True, verbose=1, callbacks=[es, mc])"
   ]
  },
  {
   "cell_type": "code",
   "execution_count": 51,
   "metadata": {},
   "outputs": [
    {
     "name": "stdout",
     "output_type": "stream",
     "text": [
      "Accuracy: 28.72%\n"
     ]
    }
   ],
   "source": [
    "loss, accuracy = model.evaluate(ds_test, verbose=0)\n",
    "print(\"Accuracy: {:.2f}%\".format(accuracy * 100))"
   ]
  },
  {
   "cell_type": "code",
   "execution_count": 52,
   "metadata": {},
   "outputs": [
    {
     "data": {
      "image/png": "[encoded data removed]",
      "text/plain": [
       "<Figure size 432x288 with 1 Axes>"
      ]
     },
     "metadata": {
      "needs_background": "light"
     },
     "output_type": "display_data"
    }
   ],
   "source": [
    "plt.plot(history.history['loss'], label='train')\n",
    "plt.plot(history.history['val_loss'], label='test')\n",
    "plt.legend()\n",
    "plt.show()"
   ]
  },
  {
   "cell_type": "code",
   "execution_count": null,
   "metadata": {},
   "outputs": [],
   "source": []
  },
  {
   "cell_type": "code",
   "execution_count": null,
   "metadata": {},
   "outputs": [],
   "source": []
  }
 ],
 "metadata": {
  "interpreter": {
   "hash": "c3ecfbb2e518759e8150e3a4e02d9374d8d11351137435699613669ebcf0f527"
  },
  "kernelspec": {
   "display_name": "Python 3.9.8 64-bit",
   "language": "python",
   "name": "python3"
  },
  "language_info": {
   "codemirror_mode": {
    "name": "ipython",
    "version": 3
   },
   "file_extension": ".py",
   "mimetype": "text/x-python",
   "name": "python",
   "nbconvert_exporter": "python",
   "pygments_lexer": "ipython3",
   "version": "3.9.8"
  },
  "orig_nbformat": 4
 },
 "nbformat": 4,
 "nbformat_minor": 2
}
